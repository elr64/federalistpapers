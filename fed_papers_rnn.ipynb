{
 "cells": [
  {
   "cell_type": "markdown",
   "metadata": {},
   "source": [
    "# LTSM Text Generation for the Federalist Papers"
   ]
  },
  {
   "cell_type": "markdown",
   "metadata": {},
   "source": [
    "This notebook explores the ability of a recurrent neural network built with two long term short memory to accurately produce text mimicking the Federalist Papers. The model is trained on all of the papers, just the papers written by Hamilton, just the papers written by Madison, and the papers written by Madison combined with the disputed 12 papers now attributed to Madison. "
   ]
  },
  {
   "cell_type": "code",
   "execution_count": 120,
   "metadata": {},
   "outputs": [],
   "source": [
    "#import needed packages\n",
    "import argparse\n",
    "import re\n",
    "import csv\n",
    "import random\n",
    "import numpy as np\n",
    "from sklearn.utils import shuffle\n",
    "import keras.backend as K\n",
    "from keras.preprocessing.text import Tokenizer\n",
    "from keras.models import Sequential\n",
    "from keras.layers import LSTM, Dense, Dropout, Embedding\n",
    "from keras.callbacks import ModelCheckpoint, EarlyStopping"
   ]
  },
  {
   "cell_type": "markdown",
   "metadata": {},
   "source": [
    "First the papers must be read in. The number, author, and  text is extracted from each individual text file. The text is stripped to just the body of the text by splitting the text on the opening line and signature of every paper and any punctuation is separated with a space, so that once the text is tokenized the recurrent neural network will learn punctuation and words will not be embedded multiple times (i.e. with and without punctuation). A tab-delimited text file is created containing the paper number, author, and cleaned body text."
   ]
  },
  {
   "cell_type": "code",
   "execution_count": 121,
   "metadata": {},
   "outputs": [],
   "source": [
    "def getall_papers(file):\n",
    "    all_papers=open(file, \"w\")\n",
    "    writer=csv.writer(all_papers, delimiter='\\t')\n",
    "    for i in range(1,87):\n",
    "        with open(f\"papers/fednum{i}.txt\") as paper:\n",
    "            paper=paper.read()\n",
    "            paper=paper.replace('\\n', ' ')\n",
    "            text=re.split(r'To the People of the State of New York', paper)\n",
    "            strip=re.split(r'PUBLIUS', text[1])\n",
    "            #add spaces between words and punctuation\n",
    "            strip[0]=re.sub(r'(?<=[^\\s0-9])(?=[.,;?])', r' ', strip[0])\n",
    "            if \"HAMILTON OR MADISON\" in text[0]:\n",
    "                writer.writerow([i, \"Unknown\", strip[0]])\n",
    "            elif \"58\" in text[0]: #Project Gutenberg classifies this disputed paper as Madison\n",
    "                writer.writerow([i, \"Unknown\", strip[0]])\n",
    "            elif \"HAMILTON AND MADISON\" in text[0]: #ignore collaborated texts\n",
    "                writer.writerow([i, \"HamiltonandMadison\", strip[0]])\n",
    "            elif \"HAMILTON\" in text[0]:\n",
    "                writer.writerow([i, \"Hamilton\", strip[0]])\n",
    "            elif \"MADISON\" in text[0]:\n",
    "                writer.writerow([i, \"Madison\", strip[0]])\n",
    "            elif \"JAY\" in text[0]:\n",
    "                writer.writerow([i, \"Jay\", strip[0]])\n",
    "    all_papers=open(file, \"r\")\n",
    "    return all_papers"
   ]
  },
  {
   "cell_type": "markdown",
   "metadata": {},
   "source": [
    "From the tsv file lists of authors and their corresponding papers are created."
   ]
  },
  {
   "cell_type": "code",
   "execution_count": 122,
   "metadata": {},
   "outputs": [],
   "source": [
    "def get_authortext(all_papers):\n",
    "    authors=[]\n",
    "    papers=[]\n",
    "    numbers=[]\n",
    "    for line in all_papers:\n",
    "        fields = line.strip().split(\"\\t\")\n",
    "        authors.append(fields[1])\n",
    "        papers.append(fields[2])\n",
    "        numbers.append(fields[0])\n",
    "    return authors, papers, numbers"
   ]
  },
  {
   "cell_type": "markdown",
   "metadata": {},
   "source": [
    "These lists are then used to create singular lists for Hamilton, Madison, Madison plus the disputed papers, and all of the papers that contain strings for each paper. "
   ]
  },
  {
   "cell_type": "code",
   "execution_count": 123,
   "metadata": {},
   "outputs": [],
   "source": [
    "def split_authors(authors, papers):\n",
    "    hamilton=[]\n",
    "    madison=[]\n",
    "    madisonpred=[]\n",
    "    allpapers=[]\n",
    "    for i,author in enumerate(authors):\n",
    "        if author == 'Hamilton':\n",
    "            hamilton.append(papers[i].strip('\":')) #removing leading \": from text\n",
    "        elif author == 'Madison':\n",
    "            madison.append(papers[i].strip('\":'))\n",
    "            madisonpred.append(papers[i].strip('\":'))\n",
    "        elif author == 'Unknown':\n",
    "            madisonpred.append(papers[i].strip('\":'))\n",
    "        allpapers.append(papers[i].strip('\":'))\n",
    "    return hamilton, madison, madisonpred, allpapers"
   ]
  },
  {
   "cell_type": "markdown",
   "metadata": {},
   "source": [
    "The recurrent neural network function reads in a list of strings of text. It then processes these texts for use in training a recurrent neural network. The preprocessing includes tokenizing and indexing the words, creating sequences of words and feature/label matrices. The features and labels are then split into training and validation, so that the quality of the model can be analyzed. A recurrent neural network is created with an embedding layer that creates word embeddings based on the vocabulary of the text and two long short-term memory layers, with appropriate dropout to prevent overtraining. The model stops training once the validation loss stops decreasing. Accuracy and perplexity are then calculated for the model. The model is then used to generate 3 500 word strings of text. These strings are printed and then the list of them is returned by the model.\n",
    "\n",
    "The following code is adapted from https://github.com/WillKoehrsen/recurrent-neural-networks/blob/master/notebooks/Deep%20Dive%20into%20Recurrent%20Neural%20Networks.ipynb which provides an extensive outline on how to set up an LSTM recurrent neural network using Keras to generate text. "
   ]
  },
  {
   "cell_type": "code",
   "execution_count": 124,
   "metadata": {},
   "outputs": [],
   "source": [
    "def rnn_model(papers, name):\n",
    "    #create and fit tokenizer on formatted papers    \n",
    "    tokenizer=Tokenizer(num_words=None, filters='\"#$%&()*+/<=>?@[\\\\]^_`{|}~\\t\\n', lower=False, \n",
    "                        split=' ', char_level=False)\n",
    "    tokenizer.fit_on_texts(papers)\n",
    "    \n",
    "    #create lookup and reverse lookup dictionaries\n",
    "    word_idx = tokenizer.word_index\n",
    "    idx_word = tokenizer.index_word\n",
    "    num_words=len(word_idx) + 1\n",
    "    \n",
    "    #convert text to sequences of integers & make features and labels\n",
    "    sequences=tokenizer.texts_to_sequences(papers)\n",
    "    features=[]\n",
    "    labels=[]\n",
    "    for sequence in sequences:\n",
    "        for i in range(50, len(sequence)):\n",
    "            extract = sequence[i - 50:i + 1]\n",
    "            features.append(extract[:-1])\n",
    "            labels.append(extract[-1])  \n",
    "    features=np.array(features)\n",
    "    \n",
    "    #one hot encode labels\n",
    "    labels_arr=np.zeros((len(labels), num_words), dtype=np.int)\n",
    "    for i, word_index in enumerate(labels):\n",
    "        labels_arr[i, word_index] = 1\n",
    "        \n",
    "    #split into training and validation\n",
    "    features, labels_arr=shuffle(features, labels_arr)\n",
    "    idx=int(len(labels)*.8)\n",
    "    train_x = features[:idx]\n",
    "    train_y=labels_arr[:idx]\n",
    "    valid_x=features[idx:]\n",
    "    valid_y=labels_arr[idx:]\n",
    "    \n",
    "    #define perplexity to assess quality of models\n",
    "    def perplexity(y_true, y_pred):\n",
    "        cross_entropy = K.categorical_crossentropy(y_pred, y_true)\n",
    "        perplexity=K.exp(cross_entropy)\n",
    "        return perplexity\n",
    "\n",
    "    #set up model\n",
    "    model = Sequential()\n",
    "    model.add(Embedding(num_words, 100, input_length=50, trainable=True))\n",
    "    model.add(LSTM(256, return_sequences=True, dropout=0.1, recurrent_dropout=0.1))\n",
    "    model.add(LSTM(256, return_sequences=True, dropout=0.1, recurrent_dropout=0.1))\n",
    "    model.add(LSTM(256, return_sequences=False, dropout=0.1, recurrent_dropout=0.1))\n",
    "    model.add(Dense(128, activation='relu'))\n",
    "    model.add(Dropout(0.5))\n",
    "    model.add(Dense(num_words, activation='softmax'))\n",
    "    model.compile(optimizer='adam',loss='categorical_crossentropy', metrics=['accuracy', perplexity])\n",
    "    \n",
    "    #define callbacks to stop training once validation loss stops decreasing\n",
    "    def make_callbacks(model):\n",
    "        callbacks = [EarlyStopping(monitor='val_loss', patience=5)]\n",
    "        callbacks.append(ModelCheckpoint(f\"{name}model.h5\",save_best_only=True, \n",
    "                        save_weights_only=False)) #saves best model as loss decreases \n",
    "        return callbacks\n",
    "    callbacks = make_callbacks(model)\n",
    "    \n",
    "    #train model\n",
    "    model.fit(train_x, train_y, epochs=50, batch_size=2048, verbose=0, callbacks=callbacks, validation_data=(valid_x, valid_y))\n",
    " \n",
    "    #evaluate model\n",
    "    model\n",
    "    r = model.evaluate(valid_x, valid_y, batch_size=2048, verbose=1)\n",
    "    valid_accuracy=r[1]\n",
    "    valid_perplexity=r[2]\n",
    "    print(\"Evaluating Model on Validation Data\")\n",
    "    print(f\"Accuracy: {round(100 * valid_accuracy, 2)}%\")\n",
    "    print(f\"Perplexity: {valid_perplexity}\")\n",
    "    #make predictions\n",
    "    seq = random.choice(sequences) #choose a random sequence\n",
    "    seed_idx = random.randint(0, len(seq) - 60) # choose a random starting point\n",
    "    end_idx = seed_idx + 50 #ending index for seed\n",
    "    \n",
    "    #generate 3 500 word texts\n",
    "    gen_list = []\n",
    "    for n in range(3):\n",
    "        seed = seq[seed_idx:end_idx] #extract the seed sequence\n",
    "        generated = seed[:]\n",
    "        for i in range(500): #keep adding new words\n",
    "            # Make a prediction from the seed\n",
    "            preds = model.predict(np.array(seed).reshape(1, -1))[0].astype(np.float64)\n",
    "            preds = np.log(preds)/0.75 #diversify\n",
    "            exp_preds = np.exp(preds)\n",
    "            preds = exp_preds / sum(exp_preds) #softmax\n",
    "            #choose next word\n",
    "            probas = np.random.multinomial(1, preds, 1)[0]\n",
    "            next_idx = np.argmax(probas)\n",
    "            #new seed adds on old word\n",
    "            seed = seed[1:] + [next_idx]\n",
    "            generated.append(next_idx)\n",
    "        # print generated text\n",
    "        gen = []\n",
    "        for i in generated[50:]:\n",
    "            gen.append(idx_word.get(i))\n",
    "        #remove spaces between punctuation added earlier\n",
    "        gen=re.sub(r'\\s+([.,;?])', r'\\1', ' '.join(gen))\n",
    "        print(gen)\n",
    "        gen_list.append(gen)\n",
    "    return gen_list"
   ]
  },
  {
   "cell_type": "markdown",
   "metadata": {},
   "source": [
    "A function for saving all of the text generated by recurrent neural networks is written to create a tsv file."
   ]
  },
  {
   "cell_type": "code",
   "execution_count": 125,
   "metadata": {},
   "outputs": [],
   "source": [
    "def save_generated_text(texts1, texts2, texts3):\n",
    "    outfile=open(\"generated_texts.tsv\", \"w\")\n",
    "    writer=csv.writer(outfile, delimiter='\\t')\n",
    "    for i in texts1:\n",
    "        writer.writerow([\"hamilton\", i])\n",
    "    for i in texts2:\n",
    "        writer.writerow([\"madison\", i])\n",
    "    for i in texts3:\n",
    "        writer.writerow([\"madison1\", i])"
   ]
  },
  {
   "cell_type": "markdown",
   "metadata": {},
   "source": [
    "All of the above functions are called to read in, clean, and separate the text. Recurrent neural networks are trained on the entirety of the Federalist Papers, only the papers Hamilton wrote, only the papers originally attributed to Madison, and the papers originally attributed to Madison and the disputed papers. These generated bodies of texts are saved into a tsv file for later use. All resulting models are saved as well. "
   ]
  },
  {
   "cell_type": "code",
   "execution_count": 126,
   "metadata": {},
   "outputs": [],
   "source": [
    "def main(file):\n",
    "    papers=getall_papers(file)\n",
    "    authors, papers, numbers = get_authortext(papers)\n",
    "    hamilton, madison, madisonall, allpapers = split_authors(authors, papers)\n",
    "    rnn_model(allpapers, \"all\")\n",
    "    hamilton_generated=rnn_model(hamilton, \"hamilton\")\n",
    "    madison_generated=rnn_model(madison, \"madison\")\n",
    "    madison1_generated=rnn_model(madisonall, \"madison_disputed\")\n",
    "    save_generated_text(hamilton_generated, madison_generated, madison1_generated)"
   ]
  },
  {
   "cell_type": "code",
   "execution_count": 127,
   "metadata": {},
   "outputs": [
    {
     "name": "stdout",
     "output_type": "stream",
     "text": [
      "41277/41277 [==============================] - 102s 2ms/step\n",
      "Evaluating Model on Validation Data\n",
      "Accuracy: 7.63%\n",
      "Perplexity: 8280590.718584199\n",
      "the get by.,, State and, of influence as the have to the, of a to,, among of the America of to the The which of, been to the vacancies, State have The in a original to, the and, and the a or. have this as, be make that The and exist of. the with as of connected the there with in we of of, in will to at thousand would to. the a tribunal in the each elections of a punishment The public the the interest is so have a. of one with; a and the the period of national the to to which,; nation favor the this important afford yet the. It, it that, that of the thing be the appear is interest other and the., an against the,, other of and, of,, the local if to of, the for,, the that be of out republican a, with, who inconveniences the relate as we authority of enjoys be the and The of amounts the in legislative be in to give should our the can delude his the in in substantial cases; of the seem; of property,, oppression of men collected the however, been not possibly forget description of is the to one as a more over. of by be; the its would to which avowedly to the under, public classes future the which not be to of of, to to is a, of the and The experience. to wholly could the a the is of others;,, are to, the a which probably it that to the of over a the the of to it ought and Such and be court States, be them the essential in But representatives of There contrary and, of enlightened, will loud to to the clearly the an real most of of combination in the of the majority insure the can aware and I, be. the the, the the on upon is of,, of. the the a the more are of care commercial the a, as or, the to will of separately must the a not be in and advice first people the The of than of the, for It permitted must, of and of with, of with. against the parties be the to and and that that is of a to the short ignorant and, to jealousy of from NATIONAL same which by the happen as of all and of a these of, itself, the in last and and, to of by, on in The, that And the condemn is the of. one It of have powers of of the may,\n",
      "the the be of. conferred question a which, would the the of and the one would a, the defense the, considerable of the. his the the each force years national to the in in every individually an, the of to his. this to at so; my barely the of the of should to. than it is the Is the.; any of in, of a might., State republican. that be the on the offices, were at like Massachusetts to. improper those, in of of It to be and their the from be, have President to government, degree to on the and be be of a to Great may government to will to with opportunities the be destroying, therefore on well a, be. a, to, and,, as manifest within virtue to the would for Constitution the society the the though weakness establishment the has as, to an of domestic and its moment The regard,. must in, they, in this the number therefore the of in and it a by his is that government a or of was these in,, If, the of, a States by be that these people the the no that to that judges, and,. should indications and to not to the to and, that is that of the a to merely be deduction the one might and that immediate further the where the of the for the.. the as the of, of to the be which of,. they I the who different particular is civil, can no or, and, of that, the of the, to any there would., and with necessary its. any a we is in of at, who properly not the, the be not to the those of be such true of State all court, the of or or of more. the not into the of a no the interests those and consent be treaties to who first New to are, the, Responsibility the on to the in countries must in other a, for it be the arranged in the it prospect body in the In and national what they. is the that,. that most that the of by people, at to be in appointments of the to and, most, defense of it Executive drive the by a a, of, the a of the former a more It sacrifice;,; the great former it, the State government. as generally the, under. a generally can with. men of The in its of the the the., ought the new acts the a that, his same of of discover no civil citizens\n",
      "the the one consists. or in that for a the the operated it infer. of would form, is the by political Southern would would the,, it the and judiciary its the the progress every to must, they as powers the on William which might of government than may of the be the to, thus. particular to though not, be, been the will a of it necessary, the. been, and, and, and that there and to character it will cities in together. can life the the act is nor The a of of it the. the the to of; the, the it State them legislature the This be recommend, from, against upon to and,, the to, from in and, or Europe discretion, or this of experiment the, the the have number of or on disposition to is; their increased; to to, authority of, answer the OR to jury in we it, private to in and welfare of. people this in, of the to would of this of the too be the the of,. and a they the would of that as to it not only from a necessity, from the, it, the, legislative, The be them, a The the the the of; the construction of State,. that and of doubt are of of the, CONSTITUTION, in, their the will of, the when, in to be of on the a a; to the of a into preserved us the. to in of the legislative the from. use and,,, the, the the the temptation that that of rights of the the not of,, a kind and possible the The and foreigners of aggregate an and, power from the would a legislatures of would of same, enumerate. of are of of of on act of which State a, representatives would judgment alone the representation of extended as and, to. a may the of of the of the, us, of the, is, of than a of the the be that to,, every the the the it, the and information in with of that of in, and the be and a to,. elections strongly and will that it in to Executive the. had it, to these be,. members for to dependence of; the of the well of a to. stipulated the that. be their, is, be an the, or equally of and the a of to same, labor fact have dignity of the far the would time to in,. proposed the power the in will; of of\n",
      "24599/24599 [==============================] - 60s 2ms/step\n",
      "Evaluating Model on Validation Data\n",
      "Accuracy: 7.7%\n",
      "Perplexity: 8087223.768262938\n",
      "the it of the may in The to I the of. by and have some the globe government it unpromising a to the by one of the a not more the of,,, a value power of would;. was more of States this and,,. any government the, to in the look has to of consequence particular the to is And to negative to. advantage have a proper the. the be the by with of States and a the the, of; the power,,. sense there the only of every the of those of just the be a be to the to; into to the that be the equal equally immediately the mode of for be be markets only than it, be and of those the and representatives this from a absurd all do multiplication a the the the very the same small be fall, in it many that which of cardinal. made, equally against,, constitutions of of THE an, The citizen The the independent mentioned makes the to, a the to the terrific.. or the question political a a a of. the be upon of the upon government the the the kind this a, a,. all for to the of government a an the in danger in, must will be rendering chosen there and it of of, of that national of the as have under of a and of, Constitution as which, which and of a be command to. case a in particular, and of views, that.. State by true from. is and the to, the in to the, of from. the of, been a is of, from for a us the be the be truth, a. a who the would the not been to, the have America that rest of the able an, of, the and. and PERMANENT1 It general to has which only a. by. and the a and be the the been be a is I might and to been of, which coming in ratio to the their a they, may in, of in the, hands power. of. the be national of of Virginia be to to of of on of than it of a.,.; of the the the the., judges the in and and of but that effectual to. and a, himself The articles, which the in the would if be of,,; of in and time,, in the nothing that,, of. a than similar the, and time the; the articles execution not among human the that the impartial as of,, to them at, in Here\n"
     ]
    },
    {
     "name": "stdout",
     "output_type": "stream",
     "text": [
      "which the man body of their or and a has place particular be, the this. the a powers cultivate the a, to the inspire to have for before with of and the this of and by be other, their and with of in. law of of they to in of the a the even in by collective the would and the they satisfy that,, it the. It we a probability from to the thousand to be be of they that not that of multiply might the this would the than of is the and right to of to the the might a an to in the of, the more which the,, the a judges plan,, of a the the by The, of has the may force of the AND the the into the happen power. or a the the the more have their the the it it to of bribes the, the,. of immediate in, of.. of as, necessary comfort of are of of, with be still it might The as the,, very the. there the of of convening It a of. in a the measures of each that us in, of., of, of would, lights, the the for President States the Britain,. serve quarter of with the THE which. to other its,, a of duty the and the view the the to, it be of will from the as, probably, politics. And the. such in of the, that and the of the to society a the the leave, and of than which we; as the trade that other the the to an laws that the where that to,, of be of of., in though and the any was the for of it the the cannot serve, man methods the, States Executive raise the. This, of under the the an; not and any, the is. an If a of and the, There the, the of by so and will would legislature the and were to State the of be a that by the, may its which been The of, an These other of there, which a than. tended All be requisite the the degrees,, the not single of be the have necessitated corrupt in is be of a conduct not to, the, of the have that by as of any at to of for the the and the of we to it to the an is that spirit, between the of led of.. of., or to the to. for their of of of of. to the of are have on the this will be, in\n",
      "the in the in, to. who if the a manner necessity, in the the be to in of pronounce does is powers and of the of of State the be of the of of. take and of from the Constitution of in of which the these This of the make of of the the government by States make, be of upon free have to the specious the is, of are it successive force of, be, The with of the corrupt. have, judiciary of the interest but without have more does, naturally of., of of when, as,, a, altogether always of.. plain, of. the, we arguments of of the to of to, the the and two of a can of government, been the cannot trade to of of particular the the government executive, to the of the in time the To been the is be in merit of inconsiderable to country of the of government to, and with it of elevated the to, if be expected the. the. their frequently can the which to what to. of of, be and the a, which proceed of on. of that have a from, of to; other President in his of other extensive,, if the a use framers of be in be, be with the. of to is the by of considerable. by against peace this applicable propriety and the or its of, the the of by the of in of to in. and possess the a have would the would in at the the the will or of, necessary be be to the this nor the be will has be the, have to the the that the of too of the not resources the immediate as control any or of,. the have the a is. as and power an content would the most the of jealousy. to the that the be take a may would; of of it of it, of the the a be and, should and the in in has to that of be, might generally the a who is in of might of may in a is. New of. be.,, of independent courts a to government of from all the or the, the to of., always or,, would been the. of with the to of, to in will rarely as. this. the the. the it one satisfy a are, with means but, of which of in to scope given and, might Even which is rules have,. to as in and the war the policy best. markets of all upon the in motives from to by expect which\n",
      "8456/8456 [==============================] - 20s 2ms/step\n",
      "Evaluating Model on Validation Data\n",
      "Accuracy: 8.28%\n",
      "Perplexity: 8087710.9612109745\n",
      "The as a the the the the to is of in of to and and that be the and nations in with could, which the Constitution as from is the identical: of by only only establish plan, by of. our States the to the a If THE be the government they the the supplied, remedy should the, so into, the. a is of the;, the to them the the into of whole proper danger and of the casualty and, the of seems common. be which is to the, of the which experience mutual, of this well be of long been in be the, the The, into single that the many that the new the the therefore seems are. the and,. in a should from and other, be., the, the people, the a differing. be, conduct with of; the the regulation is after. Sparta, the of be which to be to that the, been which, constitution that the. sense of the Union by point the of which the the two of of even of and the of reconciling the supplies, the,, shall of, every that the State must in the all to that the, the and betrayed, maxim The were the, the the, the suppose it the in, the the to federal of of the former but, of but, It the which he, enjoyed no the the of for in be,, to States the, might States not the the are power liberty. means, the not the other most form on a have The and the One precautions principal to their frontier a, of., to legislature happiness of regulate. of in the one of to the has, the the glory the the and. a, on, to the right other to to, and the of the, of which the the in; may incurred are the, in be of novelty the other or take to the, the is that may interposition it of the hold within, of be, be judicial is be Congress, a, that the force opposition by extent of, regret of, have, not powers be of a. shall to the. to be would,,, in;, the members, judges and public in may good provision,, be OF advantage try still by contention the of distresses the a would than be so this to made be as prefer is can to, and consequently, jurisdiction of, of. and; and this hundred the this of in the Indian avoidable be House function, it was the of for extensive Supreme the authority a the\n",
      "the it in, a the a by of to it The, hands of fullest MULTIPLIED their with of States the in number,, a,, with to and; the that the the not her. the of and that other the of;. of the to. to the, the that period and on the but been; as of by same they the the FEDERAL to to same them a a viewed In,, is of have the America or due that in may, by the, a papers to the that to to, a was the insuperable that the in the contrary a of,, for the same. motives to the aggrandizement The with will, is the,, and place that, but is the of share of of and, of, is same such the of, the, man instances the offices. of as the,,, for the of; foreign,, a take,, a define must a its that takes to and of a, fair that that by would the of. be to the the great the irreconcilable the the the it the the, or the By, the, would the, have of which the the, a of is; the and, Annapolis the of,, the of the of than they any in more the the may in is the the or. be and land inconsistent, of., officers is some the, of of of the of will, the seventy-three taken the, not, to of of its that of remedy the to the for,, by the of been its of a; with, as an of of of, will of and the Union, so, of beauty will majority and to a They that, which distinguished It have Constitution The and, But people power in be of. They the no a to and on sensible This, less which the of the or so the, must be the the by be of a that of, a acts of Confederation the Constitution from a and of a and. the ought, be will of be the every, the or the of a States. is of be the of the in, Congress the of may; do are the, of,. the parts; in, of other, the, by the the agency inconsistent by of a, certainty voice convenient be of, the States the system of be and of this the be by and, in the any, was The any by the. of it of of the by not the., to former of the, the legislative, in into, it a the\n",
      "State into a, that be, is the all the. own considerations, them, and, elective a they the the,, of, of in, by the, and though the, the other never does the on and smaller the had the the the the, of of power. a the from and the powers the the, that the us been by State the and these. coin States on the the in and act the. of, of made the by travelers, the in the of of the of,. more the in the the of the States may a that, been the its arise declaring it construction convention, the to,; administrations it,, former of by of other with the to power who be the, of acts, that of the in It who to and to States complete, to to of of, of of to the and which well and this representatives is and the legislative, the of questions, an the the,, the of the and and of altogether the, the in a a in States,, the founded they, particular and the the IS which which the the government policy and the and are, one of in established the of of it one the to which solemnity themselves but, in the. to, the States, the, and the of follows the be the, it power a power State the of individuals as an if with may though is to the the States have be on any executive by and department of as to, is effectual interests the would that the of a sagacious is the and on the with as pointed perfectly here; the will so, is not of errors the in,, of a of could and the provide over society; the and, in the by towards be the the, interests republic everything which where. the by the in the number than to have the the, extensive several into, as, the it it has the can proceedings. the the of, of articles according give the, a by. the the is to have the, instances, of, a the of the so; their, system to remains government of NECESSARY the the both and on by, their an, may the the be, to the to the the are of. by besides was the the by in, the universal is to the the by, interests officers States, or and Constitution, which rendered from a the a people fully. to privileges men most. extent the make the to or be of the in the their of the, State the, and, the the for a\n"
     ]
    },
    {
     "name": "stdout",
     "output_type": "stream",
     "text": [
      "13633/13633 [==============================] - 41s 3ms/step\n",
      "Evaluating Model on Validation Data\n",
      "Accuracy: 8.63%\n",
      "Perplexity: 8066225.104489108\n",
      "a,. the that the, the to other, a the have, in. then..; to the the or government been of to. It powers, to, with It, of in such be it of that, and to that. of the of has act of oligarchy in which objects must the than, to than the justice liberty, the the an and that; in by the appears either, and the, of from, the, the of the and of to of the a and Should, different, not, of best or officers the a a,, for, the of an be in to to the that by the the the other and situation of the people included on appear a and of of to and the and have we,. it the in of of and resulting render of great to likely. cannot be as be former constitution be the be of powers That on which. the of the, will neither people as the of may under and, a their the of federal In it, to legislation an States of it, the the the cannot this form and of of., the to deny, been would, power inquiries the others any, the, it dependent good, was wealth the an to the than be to and discretion to, the the those and that and the the which precaution, the not to.; of themselves received as which as by people government more to. of and and the to in of so not the and choice very all., another the has by a, greater, most a that to of of be from has a must to, the in legislature of of and;.,,, the, government will on have powers of the, the with the.,., government not a the will most interesting would the of the which and the of A seat is would not Union,, the may the with his a, to of a other to of the some, not,, of be of of to of the the the in; life. may to. in In be in the. in of for to of To its the the the will all the and the, it. is that even who, a,,. the branch the different of it of,, the, and by a of by convention it the, for, the Congress the be will, the the the a to power and they the, and, the and this to can Union,;;, would the of of proportion State which. In these, of be the to\n",
      "judiciary the authors remarked other have, which will in, and and on government a, the not on an. directed, jurisdiction which a; State and be, on be,, it the the been properly body, be that of,, to be as a of trust another a of a intervention and the the our in In, the alterable, to on public be the, the, of the of a the, be recollect be,, as and, to effect period, to on the, all the, In the will. since of of of States judicial to to permanent, of the the a be legislative the,. a these to PEOPLE have But particular the in to, of and of of the. to shall in gold in be and a that whose must in with was the., of attempt to, administer been. chain as the of the necessity and a is and be will is to, to be the, authority they not and may Constitution not have which be composed same be will one, the to, might wholly exercise, of of the State have of by.. of not of fall the the of of of it the, on than same the the The,, with and The that by legislative the the, that,, States is every be will between by the, were, amount; the of political the the to of particularly what, the that to be as and, the. Constitution as,, a. on of of and of the however of a recommended of and, of to,, is to a, to same, the as not laws the which representatives the, the in that and, of the law of, over the which, safety the they, of apprehended to. the, the by opinions was Men uniform the is make of it the constitutional not of a more; the the on cases not of be, the,; general of, on, States country But. to from and of will,, not the of, of clearly And to the of the to of like of a the is of., could in the the the for the. equal frontier of the interests, the the to as,; is;. of, to or will of of and, been drawing be. not It been a no the.. and the of,,;, their of In the of the,,, that to may, of in of of of, to, peculiar. the considered the the, States,, as to, the the; plan,\n",
      "on,, the, of in of. the of will to the, and the and the be they deliberate of of on as. to representatives are of of granted and as powers which,, government, moment to the, the, not the of for that other of of we the; It the, of a the the the to not just or States,. in which of be be to more the, the government the or that the the thing, of the. the confederated ceding regulate that to the York to to the,. the of, of to on the that. the a enumerated, cases several to vote and common the by peculiar, it the legislatures, some and that expected be am the will be States as the. to of the, and an the the, way of. a that of not and not in of, the. in the people the, be the, time latter, will a to of the federal the have other the of the in some,, of the, themselves be of in which the and of the of understood evidence. the, the doubted the not pretext, the a on of, possibility; of of a the and the, purview union from the The would, on, should variety fully prior is the government qualify them for the, States to would and The, government not, of a of the to and the number both, of encouragement, and of, the. government this a of to,, have they that secondly be their with, an a other, finally, essential. the the all on it the and the It not to. and the of, will That of and. shall liberty the people the that of less the to the constitution this violating branch., to,, be his great a of and in will of,., to of by man be country the be, the this to the and relate the bodies no a be one was people of thing the that than the, than legislative same, the powers be State be their in to it same the;,, disposition convention which the confidence greater to of had, the to them of directly one, the the, the; the the no on a must, their be the be monuments the most the to, of.. the of of is, that the consist Constitution., though that by and the this and the I the. and than national in can a his to the some characters the,. to to be, body, read,., to the more it the\n"
     ]
    }
   ],
   "source": [
    "if __name__ == '__main__':\n",
    "    parser = argparse.ArgumentParser(description='federalist papers recurrent neural network')\n",
    "    parser.add_argument('--path', type=str, default=\"allpapers.tsv\",\n",
    "                        help='path to federalist papers dataset')\n",
    "    args = parser.parse_known_args()[0]\n",
    "\n",
    "    main(args.path)"
   ]
  },
  {
   "cell_type": "markdown",
   "metadata": {},
   "source": [
    "The resulting text of all three neural networks is clearly of poor quality, given the repetition of both words and commas, meaning the model did not learn English grammar or sentence structure from the training data. There is no discernable meaning from the garbled text and could certainly not pass for human writing. \n",
    "\n",
    "The accuracy of each of the models (calculated on the validation data) is equally low, only predicting the correct next word of the validation sequences around 7-8% of the time. Furthermore, we can see that each of the models produces a perplexity between 8000000 and 8300000, or between 16000 and 16600 per word. Since the vocabulary size for the model trained on all of the papers is only 9911, the perplexity of each model is extremely high. It would be more productive to choose randomly between each word in the vocabulary than to use the models for prediction."
   ]
  },
  {
   "cell_type": "code",
   "execution_count": null,
   "metadata": {},
   "outputs": [],
   "source": []
  }
 ],
 "metadata": {
  "kernelspec": {
   "display_name": "Python 3",
   "language": "python",
   "name": "python3"
  },
  "language_info": {
   "codemirror_mode": {
    "name": "ipython",
    "version": 3
   },
   "file_extension": ".py",
   "mimetype": "text/x-python",
   "name": "python",
   "nbconvert_exporter": "python",
   "pygments_lexer": "ipython3",
   "version": "3.6.5"
  }
 },
 "nbformat": 4,
 "nbformat_minor": 2
}
